{
  "nbformat": 4,
  "nbformat_minor": 0,
  "metadata": {
    "colab": {
      "provenance": []
    },
    "kernelspec": {
      "name": "python3",
      "display_name": "Python 3"
    },
    "language_info": {
      "name": "python"
    }
  },
  "cells": [
    {
      "cell_type": "markdown",
      "source": [
        "# 1. Submuestreo de la Clase Mayoritaria (Undersampling)"
      ],
      "metadata": {
        "id": "WqvzZirSnG8l"
      }
    },
    {
      "cell_type": "markdown",
      "source": [
        "Reduce la cantidad de ejemplos de la clase mayoritaria para balancear el dataset."
      ],
      "metadata": {
        "id": "jwdE5c2Yof26"
      }
    },
    {
      "cell_type": "code",
      "source": [
        "from imblearn.under_sampling import RandomUnderSampler\n",
        "import pandas as pd\n",
        "\n",
        "# Simulación de datos\n",
        "df = pd.DataFrame({\n",
        "    'feature1': [1, 2, 3, 4, 5, 6, 7, 8, 9, 10, 11, 12, 13, 14, 15, 16, 17],\n",
        "    'churn': [0, 0, 0, 0, 0, 0, 0, 0, 1, 1, 1, 1, 0, 0, 0, 1, 1]  # Clase desbalanceada\n",
        "})\n",
        "\n",
        "X = df.drop(columns=['churn'])\n",
        "y = df['churn']\n",
        "\n",
        "# Aplicar undersampling\n",
        "undersampler = RandomUnderSampler(random_state=42)\n",
        "X_resampled, y_resampled = undersampler.fit_resample(X, y)\n",
        "\n",
        "print(y_resampled.value_counts())  # Ver distribución balanceada\n"
      ],
      "metadata": {
        "colab": {
          "base_uri": "https://localhost:8080/"
        },
        "id": "biv9G4CGohAV",
        "outputId": "34b545fe-600a-4e75-924b-e5adb138ce26"
      },
      "execution_count": null,
      "outputs": [
        {
          "output_type": "stream",
          "name": "stdout",
          "text": [
            "churn\n",
            "0    6\n",
            "1    6\n",
            "Name: count, dtype: int64\n"
          ]
        }
      ]
    },
    {
      "cell_type": "markdown",
      "source": [
        "# 2. Sobremuestreo de la Clase Minoritaria (Oversampling)"
      ],
      "metadata": {
        "id": "LV2e2-Jfo2qf"
      }
    },
    {
      "cell_type": "code",
      "source": [
        "from imblearn.over_sampling import RandomOverSampler\n",
        "\n",
        "# Aplicar oversampling\n",
        "oversampler = RandomOverSampler(random_state=42)\n",
        "X_resampled, y_resampled = oversampler.fit_resample(X, y)\n",
        "\n",
        "print(y_resampled.value_counts())  # Ver distribución balanceada"
      ],
      "metadata": {
        "colab": {
          "base_uri": "https://localhost:8080/"
        },
        "id": "up7c2np5o6jH",
        "outputId": "674aac31-39c6-4099-d5ca-20a274dada77"
      },
      "execution_count": null,
      "outputs": [
        {
          "output_type": "stream",
          "name": "stdout",
          "text": [
            "churn\n",
            "0    11\n",
            "1    11\n",
            "Name: count, dtype: int64\n"
          ]
        }
      ]
    },
    {
      "cell_type": "markdown",
      "source": [
        "# 3. SMOTE (Synthetic Minority Over-sampling Technique)"
      ],
      "metadata": {
        "id": "QL6k-q93o-S1"
      }
    },
    {
      "cell_type": "code",
      "source": [
        "from imblearn.over_sampling import SMOTE\n",
        "\n",
        "smote = SMOTE(random_state=42)\n",
        "X_resampled, y_resampled = smote.fit_resample(X, y)\n",
        "\n",
        "print(y_resampled.value_counts())  # Ver distribución balanceada"
      ],
      "metadata": {
        "colab": {
          "base_uri": "https://localhost:8080/"
        },
        "id": "cqh6e_HHpA1c",
        "outputId": "aca82b81-93e4-47bc-cd87-e2e4bffc1856"
      },
      "execution_count": null,
      "outputs": [
        {
          "output_type": "stream",
          "name": "stdout",
          "text": [
            "churn\n",
            "0    11\n",
            "1    11\n",
            "Name: count, dtype: int64\n"
          ]
        }
      ]
    },
    {
      "cell_type": "markdown",
      "source": [
        "# 4. Ponderación de Clases"
      ],
      "metadata": {
        "id": "gt0EaGGYpEc2"
      }
    },
    {
      "cell_type": "code",
      "source": [
        "import numpy as np\n",
        "from sklearn.utils.class_weight import compute_class_weight\n",
        "\n",
        "# Definir las clases\n",
        "class_weights = compute_class_weight(\n",
        "    class_weight='balanced',\n",
        "    classes=np.array([0, 1]),\n",
        "    y=y\n",
        ")\n",
        "\n",
        "print(dict(enumerate(class_weights)))  # Muestra los pesos por clase\n"
      ],
      "metadata": {
        "colab": {
          "base_uri": "https://localhost:8080/"
        },
        "id": "JWeDemfapHDI",
        "outputId": "8e7988dc-952f-43ad-ec1b-9afe9b26d2df"
      },
      "execution_count": null,
      "outputs": [
        {
          "output_type": "stream",
          "name": "stdout",
          "text": [
            "{0: 0.7727272727272727, 1: 1.4166666666666667}\n"
          ]
        }
      ]
    }
  ]
}