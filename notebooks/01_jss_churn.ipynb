{
 "cells": [
  {
   "cell_type": "markdown",
   "id": "943dbd8a",
   "metadata": {},
   "source": [
    "# Download churn dataset"
   ]
  },
  {
   "cell_type": "code",
   "execution_count": null,
   "id": "51f475c6",
   "metadata": {},
   "outputs": [],
   "source": [
    "!kaggle datasets list -s telco-customer-churn"
   ]
  },
  {
   "cell_type": "code",
   "execution_count": null,
   "id": "cf45de03",
   "metadata": {},
   "outputs": [],
   "source": [
    "from utils.paths import DATA_RAW_DIR, DATA_INTERIM_DIR, DATA_PROCESSED_DIR, MODELS_DIR"
   ]
  },
  {
   "cell_type": "code",
   "execution_count": null,
   "id": "8f9eac32",
   "metadata": {},
   "outputs": [],
   "source": [
    "!kaggle datasets download -d blastchar/telco-customer-churn -p {DATA_RAW_DIR} --unzip"
   ]
  },
  {
   "cell_type": "markdown",
   "id": "7a3fbd6c",
   "metadata": {},
   "source": [
    "# import libraries"
   ]
  },
  {
   "cell_type": "code",
   "execution_count": null,
   "id": "f3ab9349",
   "metadata": {},
   "outputs": [],
   "source": [
    "import joblib\n",
    "import pandas as pd\n",
    "import matplotlib.pyplot as plt\n",
    "import seaborn as sns\n",
    "\n",
    "from sklearn.preprocessing import LabelEncoder, MinMaxScaler\n",
    "from sklearn.model_selection import train_test_split\n",
    "from sklearn.metrics import confusion_matrix, classification_report, roc_curve, auc"
   ]
  },
  {
   "cell_type": "code",
   "execution_count": null,
   "id": "40fbb2e5",
   "metadata": {},
   "outputs": [],
   "source": [
    "import tensorflow as tf"
   ]
  },
  {
   "cell_type": "code",
   "execution_count": null,
   "id": "0347d5c4",
   "metadata": {},
   "outputs": [],
   "source": [
    "import keras\n",
    "from keras.models import load_model\n",
    "from keras.callbacks import EarlyStopping"
   ]
  },
  {
   "cell_type": "markdown",
   "id": "b7b589f1",
   "metadata": {},
   "source": [
    "# load dataset"
   ]
  },
  {
   "cell_type": "code",
   "execution_count": null,
   "id": "70919352",
   "metadata": {},
   "outputs": [],
   "source": [
    "from pathlib import Path\n",
    "\n",
    "path_churn = DATA_RAW_DIR / \"WA_Fn-UseC_-Telco-Customer-Churn.csv\"\n",
    "print(path_churn.exists())"
   ]
  },
  {
   "cell_type": "code",
   "execution_count": null,
   "id": "c9fdf35f",
   "metadata": {},
   "outputs": [],
   "source": [
    "df_churn = pd.read_csv(path_churn, sep=\",\", encoding=\"utf-8\")\n",
    "df_churn.head()"
   ]
  },
  {
   "cell_type": "markdown",
   "id": "92871d11",
   "metadata": {},
   "source": [
    "# EDA"
   ]
  },
  {
   "cell_type": "code",
   "execution_count": null,
   "id": "2c0dddd0",
   "metadata": {},
   "outputs": [],
   "source": [
    "df_churn.describe(include=\"all\")"
   ]
  },
  {
   "cell_type": "code",
   "execution_count": null,
   "id": "b41f7db1",
   "metadata": {},
   "outputs": [],
   "source": [
    "# summary with pandas\n",
    "\n",
    "def summarize_dataframe(df):\n",
    "    summary = df.describe(include=\"all\").T\n",
    "    summary['type'] = df.dtypes\n",
    "    summary['unique_values'] = df.nunique()\n",
    "    summary[\"missing_values\"] = df.isnull().sum()\n",
    "    summary['examples'] = df.apply(lambda col: col.dropna().unique()[:3])\\\n",
    "\n",
    "    summary = summary[['type', 'unique_values', 'missing_values', 'examples']]\n",
    "    return summary\n",
    "\n"
   ]
  },
  {
   "cell_type": "code",
   "execution_count": null,
   "id": "02e254f2",
   "metadata": {},
   "outputs": [],
   "source": [
    "summary = summarize_dataframe(df_churn)\n",
    "summary"
   ]
  },
  {
   "cell_type": "code",
   "execution_count": null,
   "id": "e7b496e1",
   "metadata": {},
   "outputs": [],
   "source": [
    "from ydata_profiling import ProfileReport\n",
    "\n",
    "ProfileReport(df_churn, minimal=True)"
   ]
  },
  {
   "cell_type": "code",
   "execution_count": null,
   "id": "8b984439",
   "metadata": {},
   "outputs": [],
   "source": [
    "df_churn.columns"
   ]
  },
  {
   "cell_type": "code",
   "execution_count": null,
   "id": "4afedbc9",
   "metadata": {},
   "outputs": [],
   "source": [
    "# remove unnecessary columns customerID and gender\n",
    "df_churn = df_churn.drop(columns=[\"customerID\", \"gender\"])"
   ]
  },
  {
   "cell_type": "code",
   "execution_count": null,
   "id": "262e6488",
   "metadata": {},
   "outputs": [],
   "source": [
    "# check missing values?\n",
    "df_churn.isnull().sum()"
   ]
  },
  {
   "cell_type": "code",
   "execution_count": null,
   "id": "08750e59",
   "metadata": {},
   "outputs": [],
   "source": [
    "# replace yes for 1 and no for 0\n",
    "df_churn['Churn'] = df_churn['Churn'].replace({'Yes': 1, 'No': 0})"
   ]
  },
  {
   "cell_type": "code",
   "execution_count": null,
   "id": "45584c06",
   "metadata": {},
   "outputs": [],
   "source": [
    "df_churn.Churn"
   ]
  },
  {
   "cell_type": "markdown",
   "id": "db9a90ba",
   "metadata": {},
   "source": [
    "# label encoder"
   ]
  },
  {
   "cell_type": "code",
   "execution_count": null,
   "id": "ef3a75f6",
   "metadata": {},
   "outputs": [],
   "source": [
    "print(df_churn.shape)\n",
    "print(df_churn.columns)"
   ]
  },
  {
   "cell_type": "code",
   "execution_count": null,
   "id": "0e1646f3",
   "metadata": {},
   "outputs": [],
   "source": [
    "df_churn.dtypes"
   ]
  },
  {
   "cell_type": "code",
   "execution_count": null,
   "id": "84b61129",
   "metadata": {},
   "outputs": [],
   "source": [
    "# Define categorical columns\n",
    "categorical_cols = df_churn.select_dtypes(include=['object']).columns.tolist()\n",
    "categorical_cols"
   ]
  },
  {
   "cell_type": "code",
   "execution_count": null,
   "id": "c8fdee77",
   "metadata": {},
   "outputs": [],
   "source": [
    "# replace Yes with 1 and No with 0 in categorical columns\n",
    "df_churn[categorical_cols] = df_churn[categorical_cols].replace({'Yes': 1, 'No': 0})\n"
   ]
  },
  {
   "cell_type": "code",
   "execution_count": null,
   "id": "1a86fccf",
   "metadata": {},
   "outputs": [],
   "source": [
    "df_churn.head(15)"
   ]
  },
  {
   "cell_type": "code",
   "execution_count": null,
   "id": "e323f484",
   "metadata": {},
   "outputs": [],
   "source": [
    "df_churn.dtypes"
   ]
  },
  {
   "cell_type": "code",
   "execution_count": null,
   "id": "51fcecea",
   "metadata": {},
   "outputs": [],
   "source": [
    "df_churn.head(10)"
   ]
  },
  {
   "cell_type": "code",
   "execution_count": null,
   "id": "176ed961",
   "metadata": {},
   "outputs": [],
   "source": [
    "label_encoders = {}\n",
    "for col in categorical_cols:\n",
    "    le = LabelEncoder()\n",
    "    df_churn[col] = le.fit_transform(df_churn[col].astype(str))  \n",
    "    label_encoders[col] = le"
   ]
  },
  {
   "cell_type": "code",
   "execution_count": null,
   "id": "2bd5f215",
   "metadata": {},
   "outputs": [],
   "source": [
    "joblib.dump(label_encoders, MODELS_DIR / \"label_encoders.pkl\")"
   ]
  },
  {
   "cell_type": "code",
   "execution_count": null,
   "id": "acaec0d9",
   "metadata": {},
   "outputs": [],
   "source": [
    "scale_cols = ['tenure','MonthlyCharges','TotalCharges']\n",
    "\n",
    "scale = MinMaxScaler()\n",
    "df_churn[scale_cols] = scale.fit_transform(df_churn[scale_cols])"
   ]
  },
  {
   "cell_type": "code",
   "execution_count": null,
   "id": "7a1d9645",
   "metadata": {},
   "outputs": [],
   "source": [
    "df_churn.head(15)"
   ]
  },
  {
   "cell_type": "code",
   "execution_count": null,
   "id": "2d35e611",
   "metadata": {},
   "outputs": [],
   "source": [
    "df_churn.shape"
   ]
  },
  {
   "cell_type": "code",
   "execution_count": null,
   "id": "48827c39",
   "metadata": {},
   "outputs": [],
   "source": [
    "df_churn.dtypes"
   ]
  },
  {
   "cell_type": "code",
   "execution_count": null,
   "id": "d10e5aaa",
   "metadata": {},
   "outputs": [],
   "source": [
    "joblib.dump(scale, MODELS_DIR / \"scaler.pkl\")"
   ]
  },
  {
   "cell_type": "markdown",
   "id": "556b59c7",
   "metadata": {},
   "source": [
    "# entrenamiento"
   ]
  },
  {
   "cell_type": "code",
   "execution_count": null,
   "id": "9ed83740",
   "metadata": {},
   "outputs": [],
   "source": [
    "# split data\n",
    "X = df_churn.drop(\"Churn\", axis=1)\n",
    "y = df_churn[\"Churn\"]"
   ]
  },
  {
   "cell_type": "code",
   "execution_count": null,
   "id": "5c285ea8",
   "metadata": {},
   "outputs": [],
   "source": [
    "x_train, x_test, y_train, y_test = train_test_split(X, y, test_size=0.2, random_state=42)\n",
    "\n",
    "print(x_train.shape, y_train.shape, x_test.shape, y_test.shape)"
   ]
  },
  {
   "cell_type": "markdown",
   "id": "cf7c6690",
   "metadata": {},
   "source": [
    "# neural network"
   ]
  },
  {
   "cell_type": "code",
   "execution_count": null,
   "id": "19347a58",
   "metadata": {},
   "outputs": [],
   "source": [
    "# define columns/feature\n",
    "\n",
    "num_features = len(X.columns)\n",
    "num_features"
   ]
  },
  {
   "cell_type": "code",
   "execution_count": null,
   "id": "ed8082b3",
   "metadata": {},
   "outputs": [],
   "source": [
    "# define sequential model\n",
    "model_sequential = keras.Sequential(\n",
    "    [\n",
    "        keras.layers.Input(shape=(num_features,)),\n",
    "        keras.layers.Dense(16, activation=\"relu\"),\n",
    "        keras.layers.Dense(1, activation=\"sigmoid\"),\n",
    "    ]\n",
    ")"
   ]
  },
  {
   "cell_type": "code",
   "execution_count": null,
   "id": "e1c88240",
   "metadata": {},
   "outputs": [],
   "source": [
    "keras.utils.plot_model(model_sequential, show_shapes=True)"
   ]
  },
  {
   "cell_type": "markdown",
   "id": "67862937",
   "metadata": {},
   "source": [
    "## loss function"
   ]
  },
  {
   "cell_type": "markdown",
   "id": "100ba789",
   "metadata": {},
   "source": [
    "# run with 50 epochs"
   ]
  },
  {
   "cell_type": "code",
   "execution_count": null,
   "id": "cee38da8",
   "metadata": {},
   "outputs": [],
   "source": []
  }
 ],
 "metadata": {
  "kernelspec": {
   "display_name": "deep-py312",
   "language": "python",
   "name": "python3"
  },
  "language_info": {
   "codemirror_mode": {
    "name": "ipython",
    "version": 3
   },
   "file_extension": ".py",
   "mimetype": "text/x-python",
   "name": "python",
   "nbconvert_exporter": "python",
   "pygments_lexer": "ipython3",
   "version": "3.12.11"
  }
 },
 "nbformat": 4,
 "nbformat_minor": 5
}
